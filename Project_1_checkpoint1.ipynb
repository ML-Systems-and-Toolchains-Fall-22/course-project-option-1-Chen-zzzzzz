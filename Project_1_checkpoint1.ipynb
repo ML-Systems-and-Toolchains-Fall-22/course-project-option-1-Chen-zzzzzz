{
 "cells": [
  {
   "cell_type": "code",
   "execution_count": 1,
   "id": "50e6d963",
   "metadata": {},
   "outputs": [
    {
     "name": "stderr",
     "output_type": "stream",
     "text": [
      "C:\\temp\\Hadoop\\spark-3.3.0-bin-hadoop3\\python\\pyspark\\sql\\context.py:112: FutureWarning: Deprecated in 3.0.0. Use SparkSession.builder.getOrCreate() instead.\n",
      "  warnings.warn(\n"
     ]
    }
   ],
   "source": [
    "import findspark\n",
    "findspark.init()\n",
    "findspark.find()\n",
    "\n",
    "import pyspark\n",
    "from pyspark import SparkContext, SparkConf, SQLContext\n",
    "from pyspark.sql import SparkSession\n",
    "\n",
    "from pyspark.sql import SparkSession\n",
    "\n",
    "spark = SparkSession.builder \\\n",
    "    .master(\"local[*]\") \\\n",
    "    .appName(\"GenericAppName\") \\\n",
    "    .getOrCreate()\n",
    "sc=spark.sparkContext\n",
    "sqlContext = SQLContext(sc)"
   ]
  },
  {
   "cell_type": "code",
   "execution_count": 2,
   "id": "7af104ad",
   "metadata": {},
   "outputs": [],
   "source": [
    "from pyspark import SparkFiles\n",
    "\n",
    "# col_names = [\"duration\",\"protocol_type\",\"service\",\"flag\",\"src_bytes\",\n",
    "#     \"dst_bytes\",\"land\",\"wrong_fragment\",\"urgent\",\"hot\",\"num_failed_logins\",\n",
    "#     \"logged_in\",\"num_compromised\",\"root_shell\",\"su_attempted\",\"num_root\",\n",
    "#     \"num_file_creations\",\"num_shells\",\"num_access_files\",\"num_outbound_cmds\",\n",
    "#     \"is_host_login\",\"is_guest_login\",\"count\",\"srv_count\",\"serror_rate\",\n",
    "#     \"srv_serror_rate\",\"rerror_rate\",\"srv_rerror_rate\",\"same_srv_rate\",\n",
    "#     \"diff_srv_rate\",\"srv_diff_host_rate\",\"dst_host_count\",\"dst_host_srv_count\",\n",
    "#     \"dst_host_same_srv_rate\",\"dst_host_diff_srv_rate\",\"dst_host_same_src_port_rate\",\n",
    "#     \"dst_host_srv_diff_host_rate\",\"dst_host_serror_rate\",\"dst_host_srv_serror_rate\",\n",
    "#     \"dst_host_rerror_rate\",\"dst_host_srv_rerror_rate\",\"classes\",\"difficulty_level\"]\n",
    "\n",
    "# data_url = \"https://www.andrew.cmu.edu/user/mfarag/14813/KDDTrain+.txt\"\n",
    "# spark.sparkContext.addFile(data_url)\n",
    "players_15 = spark.read.csv('FIFA_DATA/players_15.csv',header=True, inferSchema = True)\n",
    "players_16 = spark.read.csv('FIFA_DATA/players_16.csv',header=True, inferSchema = True)\n",
    "players_17 = spark.read.csv('FIFA_DATA/players_17.csv',header=True, inferSchema = True)\n",
    "players_18 = spark.read.csv('FIFA_DATA/players_18.csv',header=True, inferSchema = True)\n",
    "players_19 = spark.read.csv('FIFA_DATA/players_19.csv',header=True, inferSchema = True)\n",
    "players_20 = spark.read.csv('FIFA_DATA/players_20.csv',header=True, inferSchema = True)\n",
    "players_21 = spark.read.csv('FIFA_DATA/players_21.csv',header=True, inferSchema = True)\n",
    "players_22 = spark.read.csv('FIFA_DATA/players_22.csv',header=True, inferSchema = True)\n",
    "\n",
    "# nslkdd_test_raw = spark.read.csv('./NSL-KDD/KDDTest+.txt',header=False).toDF(*col_names)\n",
    "# df = spark.read.csv(SparkFiles.get(\"KDDTrain+.txt\"),header=False, inferSchema= True).toDF(*col_names)\n",
    "# If you want to read file on the filesystem, use spark.read.csv(fileLocation, header=False, inferSchema=True)"
   ]
  },
  {
   "cell_type": "code",
   "execution_count": 26,
   "id": "dd225b87",
   "metadata": {},
   "outputs": [
    {
     "name": "stdout",
     "output_type": "stream",
     "text": [
      "movement_agility\n"
     ]
    }
   ],
   "source": [
    "print(players_15.columns[55])"
   ]
  },
  {
   "cell_type": "code",
   "execution_count": 3,
   "id": "e4694f5f",
   "metadata": {},
   "outputs": [],
   "source": [
    "from pyspark.sql.functions import lit\n",
    "\n",
    "players_15 = players_15.withColumn('Year', lit(2015))\n",
    "players_16 = players_16.withColumn('Year', lit(2016))\n",
    "players_17 = players_17.withColumn('Year', lit(2017))\n",
    "players_18 = players_18.withColumn('Year', lit(2018))\n",
    "players_19 = players_19.withColumn('Year', lit(2019))\n",
    "players_20 = players_20.withColumn('Year', lit(2020))\n",
    "players_21 = players_21.withColumn('Year', lit(2021))\n",
    "players_22 = players_22.withColumn('Year', lit(2022))\n"
   ]
  },
  {
   "cell_type": "code",
   "execution_count": 4,
   "id": "e4538ab2",
   "metadata": {},
   "outputs": [],
   "source": [
    "from pyspark.sql import functions as sf\n",
    "\n",
    "players_15 = players_15.withColumn('data_ID', sf.concat(sf.col('sofifa_id'),sf.lit('_'), sf.col('Year')))\n",
    "players_16 = players_16.withColumn('data_ID', sf.concat(sf.col('sofifa_id'),sf.lit('_'), sf.col('Year')))\n",
    "players_17 = players_17.withColumn('data_ID', sf.concat(sf.col('sofifa_id'),sf.lit('_'), sf.col('Year')))\n",
    "players_18 = players_18.withColumn('data_ID', sf.concat(sf.col('sofifa_id'),sf.lit('_'), sf.col('Year')))\n",
    "players_19 = players_19.withColumn('data_ID', sf.concat(sf.col('sofifa_id'),sf.lit('_'), sf.col('Year')))\n",
    "players_20 = players_20.withColumn('data_ID', sf.concat(sf.col('sofifa_id'),sf.lit('_'), sf.col('Year')))\n",
    "players_21 = players_21.withColumn('data_ID', sf.concat(sf.col('sofifa_id'),sf.lit('_'), sf.col('Year')))\n",
    "players_22 = players_22.withColumn('data_ID', sf.concat(sf.col('sofifa_id'),sf.lit('_'), sf.col('Year')))"
   ]
  },
  {
   "cell_type": "code",
   "execution_count": 5,
   "id": "6257d1ff",
   "metadata": {},
   "outputs": [],
   "source": [
    "data = players_15.union(players_16)\n",
    "data = data.union(players_17)\n",
    "data = data.union(players_18)\n",
    "data = data.union(players_19)\n",
    "data = data.union(players_20)\n",
    "data = data.union(players_21)\n",
    "data = data.union(players_22)"
   ]
  },
  {
   "cell_type": "code",
   "execution_count": 6,
   "id": "88f79cc7",
   "metadata": {},
   "outputs": [],
   "source": [
    "db_properties={}\n",
    "#update your db username\n",
    "db_properties['username']=\"postgres\"\n",
    "#update your db password\n",
    "db_properties['password']=\"psql\"\n",
    "#make sure you got the right port number here\n",
    "db_properties['url']= \"jdbc:postgresql://localhost:5432/postgres\"\n",
    "#make sure you had the Postgres JAR file in the right location\n",
    "db_properties['driver']=\"org.postgresql.Driver\"\n",
    "db_properties['table']= \"fifa.data\"\n",
    "\n",
    "\n",
    "\n",
    "data.write.format(\"jdbc\")\\\n",
    ".mode(\"overwrite\")\\\n",
    ".option(\"url\", db_properties['url'])\\\n",
    ".option(\"dbtable\", db_properties['table'])\\\n",
    ".option(\"user\", db_properties['username'])\\\n",
    ".option(\"password\", db_properties['password'])\\\n",
    ".option(\"Driver\", db_properties['driver'])\\\n",
    ".save()\n"
   ]
  },
  {
   "cell_type": "code",
   "execution_count": 7,
   "id": "ebfdd0aa",
   "metadata": {},
   "outputs": [
    {
     "name": "stdout",
     "output_type": "stream",
     "text": [
      "root\n",
      " |-- sofifa_id: integer (nullable = true)\n",
      " |-- player_url: string (nullable = true)\n",
      " |-- short_name: string (nullable = true)\n",
      " |-- long_name: string (nullable = true)\n",
      " |-- player_positions: string (nullable = true)\n",
      " |-- overall: integer (nullable = true)\n",
      " |-- potential: integer (nullable = true)\n",
      " |-- value_eur: double (nullable = true)\n",
      " |-- wage_eur: double (nullable = true)\n",
      " |-- age: integer (nullable = true)\n",
      " |-- dob: timestamp (nullable = true)\n",
      " |-- height_cm: integer (nullable = true)\n",
      " |-- weight_kg: integer (nullable = true)\n",
      " |-- club_team_id: double (nullable = true)\n",
      " |-- club_name: string (nullable = true)\n",
      " |-- league_name: string (nullable = true)\n",
      " |-- league_level: integer (nullable = true)\n",
      " |-- club_position: string (nullable = true)\n",
      " |-- club_jersey_number: integer (nullable = true)\n",
      " |-- club_loaned_from: string (nullable = true)\n",
      " |-- club_joined: timestamp (nullable = true)\n",
      " |-- club_contract_valid_until: integer (nullable = true)\n",
      " |-- nationality_id: integer (nullable = true)\n",
      " |-- nationality_name: string (nullable = true)\n",
      " |-- nation_team_id: double (nullable = true)\n",
      " |-- nation_position: string (nullable = true)\n",
      " |-- nation_jersey_number: integer (nullable = true)\n",
      " |-- preferred_foot: string (nullable = true)\n",
      " |-- weak_foot: integer (nullable = true)\n",
      " |-- skill_moves: integer (nullable = true)\n",
      " |-- international_reputation: integer (nullable = true)\n",
      " |-- work_rate: string (nullable = true)\n",
      " |-- body_type: string (nullable = true)\n",
      " |-- real_face: string (nullable = true)\n",
      " |-- release_clause_eur: string (nullable = true)\n",
      " |-- player_tags: string (nullable = true)\n",
      " |-- player_traits: string (nullable = true)\n",
      " |-- pace: integer (nullable = true)\n",
      " |-- shooting: integer (nullable = true)\n",
      " |-- passing: integer (nullable = true)\n",
      " |-- dribbling: integer (nullable = true)\n",
      " |-- defending: integer (nullable = true)\n",
      " |-- physic: integer (nullable = true)\n",
      " |-- attacking_crossing: integer (nullable = true)\n",
      " |-- attacking_finishing: integer (nullable = true)\n",
      " |-- attacking_heading_accuracy: integer (nullable = true)\n",
      " |-- attacking_short_passing: integer (nullable = true)\n",
      " |-- attacking_volleys: integer (nullable = true)\n",
      " |-- skill_dribbling: integer (nullable = true)\n",
      " |-- skill_curve: integer (nullable = true)\n",
      " |-- skill_fk_accuracy: integer (nullable = true)\n",
      " |-- skill_long_passing: integer (nullable = true)\n",
      " |-- skill_ball_control: integer (nullable = true)\n",
      " |-- movement_acceleration: integer (nullable = true)\n",
      " |-- movement_sprint_speed: integer (nullable = true)\n",
      " |-- movement_agility: integer (nullable = true)\n",
      " |-- movement_reactions: integer (nullable = true)\n",
      " |-- movement_balance: integer (nullable = true)\n",
      " |-- power_shot_power: integer (nullable = true)\n",
      " |-- power_jumping: integer (nullable = true)\n",
      " |-- power_stamina: integer (nullable = true)\n",
      " |-- power_strength: integer (nullable = true)\n",
      " |-- power_long_shots: integer (nullable = true)\n",
      " |-- mentality_aggression: integer (nullable = true)\n",
      " |-- mentality_interceptions: integer (nullable = true)\n",
      " |-- mentality_positioning: integer (nullable = true)\n",
      " |-- mentality_vision: integer (nullable = true)\n",
      " |-- mentality_penalties: integer (nullable = true)\n",
      " |-- mentality_composure: string (nullable = true)\n",
      " |-- defending_marking_awareness: integer (nullable = true)\n",
      " |-- defending_standing_tackle: integer (nullable = true)\n",
      " |-- defending_sliding_tackle: integer (nullable = true)\n",
      " |-- goalkeeping_diving: integer (nullable = true)\n",
      " |-- goalkeeping_handling: integer (nullable = true)\n",
      " |-- goalkeeping_kicking: integer (nullable = true)\n",
      " |-- goalkeeping_positioning: integer (nullable = true)\n",
      " |-- goalkeeping_reflexes: integer (nullable = true)\n",
      " |-- goalkeeping_speed: integer (nullable = true)\n",
      " |-- ls: string (nullable = true)\n",
      " |-- st: string (nullable = true)\n",
      " |-- rs: string (nullable = true)\n",
      " |-- lw: string (nullable = true)\n",
      " |-- lf: string (nullable = true)\n",
      " |-- cf: string (nullable = true)\n",
      " |-- rf: string (nullable = true)\n",
      " |-- rw: string (nullable = true)\n",
      " |-- lam: string (nullable = true)\n",
      " |-- cam: string (nullable = true)\n",
      " |-- ram: string (nullable = true)\n",
      " |-- lm: string (nullable = true)\n",
      " |-- lcm: string (nullable = true)\n",
      " |-- cm: string (nullable = true)\n",
      " |-- rcm: string (nullable = true)\n",
      " |-- rm: string (nullable = true)\n",
      " |-- lwb: string (nullable = true)\n",
      " |-- ldm: string (nullable = true)\n",
      " |-- cdm: string (nullable = true)\n",
      " |-- rdm: string (nullable = true)\n",
      " |-- rwb: string (nullable = true)\n",
      " |-- lb: string (nullable = true)\n",
      " |-- lcb: string (nullable = true)\n",
      " |-- cb: string (nullable = true)\n",
      " |-- rcb: string (nullable = true)\n",
      " |-- rb: string (nullable = true)\n",
      " |-- gk: string (nullable = true)\n",
      " |-- player_face_url: string (nullable = true)\n",
      " |-- club_logo_url: string (nullable = true)\n",
      " |-- club_flag_url: string (nullable = true)\n",
      " |-- nation_logo_url: string (nullable = true)\n",
      " |-- nation_flag_url: string (nullable = true)\n",
      " |-- Year: integer (nullable = false)\n",
      " |-- data_ID: string (nullable = true)\n",
      "\n"
     ]
    }
   ],
   "source": [
    "data.printSchema()"
   ]
  },
  {
   "cell_type": "code",
   "execution_count": 8,
   "id": "7bb5a955",
   "metadata": {},
   "outputs": [
    {
     "name": "stdout",
     "output_type": "stream",
     "text": [
      "-RECORD 0-------------------------------------------\n",
      " sofifa_id                   | 207491               \n",
      " player_url                  | https://sofifa.co... \n",
      " short_name                  | R. Gaffney           \n",
      " long_name                   | Rory Nicholas Gaf... \n",
      " player_positions            | ST                   \n",
      " overall                     | 63                   \n",
      " potential                   | 63                   \n",
      " value_eur                   | 350000.0             \n",
      " wage_eur                    | 3000.0               \n",
      " age                         | 26                   \n",
      " dob                         | 1989-10-23 00:00:00  \n",
      " height_cm                   | 184                  \n",
      " weight_kg                   | 76                   \n",
      " club_team_id                | 1962.0               \n",
      " club_name                   | Bristol Rovers       \n",
      " league_name                 | English League One   \n",
      " league_level                | 3                    \n",
      " club_position               | SUB                  \n",
      " club_jersey_number          | 30                   \n",
      " club_loaned_from            | null                 \n",
      " club_joined                 | 2016-01-14 00:00:00  \n",
      " club_contract_valid_until   | 2017                 \n",
      " nationality_id              | 25                   \n",
      " nationality_name            | Republic of Ireland  \n",
      " nation_team_id              | null                 \n",
      " nation_position             | null                 \n",
      " nation_jersey_number        | null                 \n",
      " preferred_foot              | Right                \n",
      " weak_foot                   | 4                    \n",
      " skill_moves                 | 2                    \n",
      " international_reputation    | 1                    \n",
      " work_rate                   | High/Medium          \n",
      " body_type                   | Normal (170-185)     \n",
      " real_face                   | No                   \n",
      " release_clause_eur          | null                 \n",
      " player_tags                 | null                 \n",
      " player_traits               | null                 \n",
      " pace                        | 63                   \n",
      " shooting                    | 62                   \n",
      " passing                     | 56                   \n",
      " dribbling                   | 61                   \n",
      " defending                   | 39                   \n",
      " physic                      | 66                   \n",
      " attacking_crossing          | 54                   \n",
      " attacking_finishing         | 63                   \n",
      " attacking_heading_accuracy  | 61                   \n",
      " attacking_short_passing     | 60                   \n",
      " attacking_volleys           | 46                   \n",
      " skill_dribbling             | 62                   \n",
      " skill_curve                 | 51                   \n",
      " skill_fk_accuracy           | 51                   \n",
      " skill_long_passing          | 55                   \n",
      " skill_ball_control          | 62                   \n",
      " movement_acceleration       | 62                   \n",
      " movement_sprint_speed       | 63                   \n",
      " movement_agility            | 59                   \n",
      " movement_reactions          | 54                   \n",
      " movement_balance            | 64                   \n",
      " power_shot_power            | 72                   \n",
      " power_jumping               | 63                   \n",
      " power_stamina               | 61                   \n",
      " power_strength              | 75                   \n",
      " power_long_shots            | 55                   \n",
      " mentality_aggression        | 51                   \n",
      " mentality_interceptions     | 34                   \n",
      " mentality_positioning       | 57                   \n",
      " mentality_vision            | 55                   \n",
      " mentality_penalties         | 56                   \n",
      " mentality_composure         | 55                   \n",
      " defending_marking_awareness | 38                   \n",
      " defending_standing_tackle   | 37                   \n",
      " defending_sliding_tackle    | 36                   \n",
      " goalkeeping_diving          | 6                    \n",
      " goalkeeping_handling        | 10                   \n",
      " goalkeeping_kicking         | 10                   \n",
      " goalkeeping_positioning     | 10                   \n",
      " goalkeeping_reflexes        | 15                   \n",
      " goalkeeping_speed           | null                 \n",
      " ls                          | 62+1                 \n",
      " st                          | 62+1                 \n",
      " rs                          | 62+1                 \n",
      " lw                          | 59                   \n",
      " lf                          | 60                   \n",
      " cf                          | 60                   \n",
      " rf                          | 60                   \n",
      " rw                          | 59                   \n",
      " lam                         | 59+1                 \n",
      " cam                         | 59+1                 \n",
      " ram                         | 59+1                 \n",
      " lm                          | 59+1                 \n",
      " lcm                         | 56+1                 \n",
      " cm                          | 56+1                 \n",
      " rcm                         | 56+1                 \n",
      " rm                          | 59+1                 \n",
      " lwb                         | 50+1                 \n",
      " ldm                         | 50+1                 \n",
      " cdm                         | 50+1                 \n",
      " rdm                         | 50+1                 \n",
      " rwb                         | 50+1                 \n",
      " lb                          | 49+1                 \n",
      " lcb                         | 48+1                 \n",
      " cb                          | 48+1                 \n",
      " rcb                         | 48+1                 \n",
      " rb                          | 49+1                 \n",
      " gk                          | 15+1                 \n",
      " player_face_url             | https://cdn.sofif... \n",
      " club_logo_url               | https://cdn.sofif... \n",
      " club_flag_url               | https://cdn.sofif... \n",
      " nation_logo_url             | null                 \n",
      " nation_flag_url             | https://cdn.sofif... \n",
      " Year                        | 2017                 \n",
      " data_ID                     | 207491_2017          \n",
      "only showing top 1 row\n",
      "\n"
     ]
    }
   ],
   "source": [
    "data_read = sqlContext.read.format(\"jdbc\")\\\n",
    "    .option(\"url\", db_properties['url'])\\\n",
    "    .option(\"dbtable\", db_properties['table'])\\\n",
    "    .option(\"user\", db_properties['username'])\\\n",
    "    .option(\"password\", db_properties['password'])\\\n",
    "    .option(\"Driver\", db_properties['driver'])\\\n",
    "    .load()\n",
    "\n",
    "data_read.show(1, vertical=True)"
   ]
  },
  {
   "cell_type": "code",
   "execution_count": 19,
   "id": "899cc61f",
   "metadata": {},
   "outputs": [
    {
     "name": "stdout",
     "output_type": "stream",
     "text": [
      "club with highest numbers: ['Norwich City' 'FC Barcelona' 'ESTAC Troyes' 'RC Celta de Vigo'\n",
      " 'RCD Espanyol de Barcelona' 'Newcastle United' 'Paris Saint-Germain'\n",
      " 'Crystal Palace' 'Burnley' 'Granada CF' 'RCD Mallorca' 'Genoa'\n",
      " 'Real Madrid CF' 'Manchester United' 'Arsenal' 'Brentford'\n",
      " 'VfB Stuttgart' 'Real Betis Balompié' 'CA Osasuna' 'Villarreal CF'\n",
      " 'Southampton' 'Leicester City' 'Venezia FC' 'Valencia CF'\n",
      " 'Borussia Mönchengladbach' 'Tottenham Hotspur' 'Sevilla FC'\n",
      " 'TSG Hoffenheim' 'Wolverhampton Wanderers' 'Brighton & Hove Albion'\n",
      " 'Liverpool' 'Olympique de Marseille' 'Chelsea' 'Everton'\n",
      " 'West Ham United']\n"
     ]
    }
   ],
   "source": [
    "highest_number_club = data_read.where(data_read['Year']=='2022').groupBy(\"club_name\").count().sort(\"count\",ascending=False).limit(36).where(data_read['club_name']!='None').toPandas()\n",
    "print(\"club with highest numbers:\",highest_number_club['club_name'].values)"
   ]
  },
  {
   "cell_type": "code",
   "execution_count": 20,
   "id": "2473de8e",
   "metadata": {},
   "outputs": [
    {
     "name": "stdout",
     "output_type": "stream",
     "text": [
      "                    club_name  count\n",
      "0                        None     61\n",
      "1            RC Celta de Vigo     33\n",
      "2   RCD Espanyol de Barcelona     33\n",
      "3                FC Barcelona     33\n",
      "4                RCD Mallorca     33\n",
      "5                       Genoa     33\n",
      "6              Real Madrid CF     33\n",
      "7                ESTAC Troyes     33\n",
      "8                Norwich City     33\n",
      "9               VfB Stuttgart     33\n",
      "10        Real Betis Balompié     33\n",
      "11           Newcastle United     33\n",
      "12                    Arsenal     33\n",
      "13                  Brentford     33\n",
      "14          Manchester United     33\n",
      "15          Tottenham Hotspur     33\n",
      "16                 Sevilla FC     33\n",
      "17             TSG Hoffenheim     33\n",
      "18    Wolverhampton Wanderers     33\n",
      "19     Brighton & Hove Albion     33\n",
      "20                  Liverpool     33\n",
      "21     Olympique de Marseille     33\n",
      "22                    Chelsea     33\n",
      "23                    Everton     33\n",
      "24            West Ham United     33\n",
      "25    Levante Unión Deportiva     33\n",
      "26                 CA Osasuna     33\n",
      "27        Paris Saint-Germain     33\n",
      "28              Villarreal CF     33\n",
      "29             Crystal Palace     33\n",
      "30                Southampton     33\n",
      "31             Leicester City     33\n",
      "32                    Burnley     33\n",
      "33                 Venezia FC     33\n",
      "34                Valencia CF     33\n",
      "35                 Granada CF     33\n",
      "36   Borussia Mönchengladbach     33\n",
      "37                      Lazio     32\n",
      "38       SpVgg Greuther Fürth     32\n",
      "39            Manchester City     32\n",
      "40                 Hertha BSC     32\n",
      "41                 RB Leipzig     32\n",
      "42            1. FSV Mainz 05     32\n",
      "43              VfL Wolfsburg     32\n",
      "44                   Cádiz CF     32\n",
      "45                       Roma     32\n",
      "46         Atlético de Madrid     32\n",
      "47         1. FC Union Berlin     31\n",
      "48                FC Augsburg     31\n",
      "49               Leeds United     31\n"
     ]
    },
    {
     "data": {
      "image/png": "[encoded data removed]",
      "text/plain": [
       "<Figure size 1080x576 with 1 Axes>"
      ]
     },
     "metadata": {
      "needs_background": "light"
     },
     "output_type": "display_data"
    }
   ],
   "source": [
    "import seaborn as sns\n",
    "from IPython import display\n",
    "import matplotlib.pyplot as plt\n",
    "\n",
    "top_50_highest_number_club = data_read.where(data_read['Year']=='2022').groupBy(\"club_name\").count().sort(\"count\",ascending=False).limit(50).toPandas()\n",
    "print(top_50_highest_number_club)\n",
    "plt.figure( figsize = ( 15, 8 ) )\n",
    "sns.barplot( x=\"club_name\", y=\"count\", data=highest_number_club)\n",
    "plt.show()"
   ]
  },
  {
   "cell_type": "code",
   "execution_count": null,
   "id": "84378a4a",
   "metadata": {},
   "outputs": [],
   "source": [
    "# from pyspark.sql.functions import *\n",
    "\n",
    "# # Notice I dropped isPenalty and isSTPlay\n",
    "# # casted_types_df = casted_types_df.drop('GameClock')\n",
    "# null_data = data_read.select([count(when(isnan(c) | col(c).isNull() , c)).alias(c) \\\n",
    "#                         for c in data_read.columns if c not in ('timestamp', 'string', 'date')])\n",
    "# null_data_1 = data_read.select([count(when(col(c) == \"NA\" , c)).alias(c) \\\n",
    "#                         for c in data_read.columns])\n",
    "# null_data.show(truncate=False, vertical=True)\n",
    "# null_data_1.show(truncate=False, vertical=True)"
   ]
  },
  {
   "cell_type": "code",
   "execution_count": 27,
   "id": "4a35ba8a",
   "metadata": {},
   "outputs": [
    {
     "name": "stdout",
     "output_type": "stream",
     "text": [
      "                   club_name  count\n",
      "0                       None    874\n",
      "1     İstanbul Başakşehir FK    133\n",
      "2     Jeonbuk Hyundai Motors    118\n",
      "3        FC Lokomotiv Moscow    108\n",
      "4             Crystal Palace    106\n",
      "...                      ...    ...\n",
      "1007     Caracas Fútbol Club      3\n",
      "1008          SC Freiburg II      2\n",
      "1009            FC Helsingør      2\n",
      "1010            FC Dordrecht      1\n",
      "1011    Borussia Dortmund II      1\n",
      "\n",
      "[1012 rows x 2 columns]\n",
      "                       club_name  sum(age)\n",
      "0                        Palermo      1105\n",
      "1     CD Everton de Viña del Mar      1014\n",
      "2                Shonan Bellmare      1676\n",
      "3                    Yeovil Town       847\n",
      "4                     Göztepe SK      1553\n",
      "...                          ...       ...\n",
      "1007                        Bury      1731\n",
      "1008            Rotherham United      1945\n",
      "1009                 Bohemian FC      1269\n",
      "1010               Middlesbrough      2064\n",
      "1011                        Como       219\n",
      "\n",
      "[1012 rows x 2 columns]\n",
      "<class 'numpy.ndarray'> [1.26430206e+00 7.62406015e+00 1.42033898e+01 ... 6.34500000e+02\n",
      " 2.06400000e+03 2.19000000e+02]\n"
     ]
    }
   ],
   "source": [
    "import numpy as np\n",
    "highest_number_over27_count = data_read.where(data_read['age']>27).groupBy(\"club_name\").count().sort(\"count\",ascending=False).toPandas()\n",
    "highest_number_over27_sum = data_read.where(data_read['age']>27).groupBy(\"club_name\").sum('age').toPandas()\n",
    "# highest_number_over27_value = highest_number_over27['age'].values\n",
    "# .sort(\"count\",ascending=False).limit(50).toPandas()\n",
    "print(highest_number_over27_count)\n",
    "print(highest_number_over27_sum)\n",
    "average_over27 = highest_number_over27_sum['sum(age)'].values/highest_number_over27_count['count'].values\n",
    "print(type(average_over27),average_over27)"
   ]
  },
  {
   "cell_type": "code",
   "execution_count": 28,
   "id": "1aef414a",
   "metadata": {},
   "outputs": [
    {
     "name": "stdout",
     "output_type": "stream",
     "text": [
      "               club_name   avg(age)\n",
      "0            Yokohama FC  34.703704\n",
      "1         Wexford Youths  34.000000\n",
      "2     Zamora Fútbol Club  33.857143\n",
      "3  Centro Atlético Fénix  33.600000\n",
      "4         CF Fuenlabrada  33.545455\n"
     ]
    }
   ],
   "source": [
    "highest_number_over27_avg = data_read.where(data_read['age']>27).groupBy(\"club_name\").avg('age').sort(\"avg(age)\",ascending=False).limit(5).toPandas()\n",
    "print(highest_number_over27_avg)"
   ]
  },
  {
   "cell_type": "code",
   "execution_count": 29,
   "id": "b7ac2b8f",
   "metadata": {},
   "outputs": [
    {
     "name": "stdout",
     "output_type": "stream",
     "text": [
      "club with highest numbers over 27: ['Yokohama FC']\n"
     ]
    }
   ],
   "source": [
    "top1_highest_number_over27_avg = data_read.where(data_read['age']>27).groupBy(\"club_name\").avg('age').sort(\"avg(age)\",ascending=False).limit(1).where(data_read['club_name']!='None').toPandas()\n",
    "print(\"club with highest numbers over 27:\",top1_highest_number_over27_avg['club_name'].values)"
   ]
  },
  {
   "cell_type": "code",
   "execution_count": 30,
   "id": "2a6be7f1",
   "metadata": {},
   "outputs": [
    {
     "name": "stdout",
     "output_type": "stream",
     "text": [
      "Most frequent nation position 2015: ['SUB']\n",
      "Most frequent nation position 2016: ['SUB']\n",
      "Most frequent nation position 2017: ['SUB']\n",
      "Most frequent nation position 2018: ['SUB']\n",
      "Most frequent nation position 2019: ['SUB']\n",
      "Most frequent nation position 2020: ['SUB']\n",
      "Most frequent nation position 2021: ['SUB']\n",
      "Most frequent nation position 2022: ['SUB']\n"
     ]
    }
   ],
   "source": [
    "most_frequent_nation_2015 = data_read.where(data_read['Year']==2015).groupBy(\"nation_position\").count().sort(\"count\",ascending=False).limit(2).where(data_read['nation_position']!='None').toPandas()\n",
    "print(\"Most frequent nation position 2015:\",most_frequent_nation_2015['nation_position'].values)\n",
    "most_frequent_nation_2016 = data_read.where(data_read['Year']==2016).groupBy(\"nation_position\").count().sort(\"count\",ascending=False).limit(2).where(data_read['nation_position']!='None').toPandas()\n",
    "print(\"Most frequent nation position 2016:\",most_frequent_nation_2016['nation_position'].values)\n",
    "most_frequent_nation_2017 = data_read.where(data_read['Year']==2017).groupBy(\"nation_position\").count().sort(\"count\",ascending=False).limit(2).where(data_read['nation_position']!='None').toPandas()\n",
    "print(\"Most frequent nation position 2017:\",most_frequent_nation_2017['nation_position'].values)\n",
    "most_frequent_nation_2018 = data_read.where(data_read['Year']==2018).groupBy(\"nation_position\").count().sort(\"count\",ascending=False).limit(2).where(data_read['nation_position']!='None').toPandas()\n",
    "print(\"Most frequent nation position 2018:\",most_frequent_nation_2018['nation_position'].values)\n",
    "most_frequent_nation_2019 = data_read.where(data_read['Year']==2019).groupBy(\"nation_position\").count().sort(\"count\",ascending=False).limit(2).where(data_read['nation_position']!='None').toPandas()\n",
    "print(\"Most frequent nation position 2019:\",most_frequent_nation_2019['nation_position'].values)\n",
    "most_frequent_nation_2020 = data_read.where(data_read['Year']==2020).groupBy(\"nation_position\").count().sort(\"count\",ascending=False).limit(2).where(data_read['nation_position']!='None').toPandas()\n",
    "print(\"Most frequent nation position 2020:\",most_frequent_nation_2020['nation_position'].values)\n",
    "most_frequent_nation_2021 = data_read.where(data_read['Year']==2021).groupBy(\"nation_position\").count().sort(\"count\",ascending=False).limit(2).where(data_read['nation_position']!='None').toPandas()\n",
    "print(\"Most frequent nation position 2021:\",most_frequent_nation_2021['nation_position'].values)\n",
    "most_frequent_nation_2022 = data_read.where(data_read['Year']==2022).groupBy(\"nation_position\").count().sort(\"count\",ascending=False).limit(2).where(data_read['nation_position']!='None').toPandas()\n",
    "print(\"Most frequent nation position 2022:\",most_frequent_nation_2022['nation_position'].values)"
   ]
  },
  {
   "cell_type": "code",
   "execution_count": 31,
   "id": "470a168f",
   "metadata": {},
   "outputs": [
    {
     "name": "stdout",
     "output_type": "stream",
     "text": [
      "  nation_position  count\n",
      "0            None  15074\n",
      "1             SUB    564\n",
      "2              GK     47\n",
      "3             RCB     47\n",
      "4             LCB     47\n"
     ]
    }
   ],
   "source": [
    "most_frequent_nation_2015 = data_read.where(data_read['Year']==2015).groupBy(\"nation_position\").count().sort(\"count\",ascending=False).limit(5).toPandas()\n",
    "print(most_frequent_nation_2015)"
   ]
  },
  {
   "cell_type": "code",
   "execution_count": null,
   "id": "44c61d10",
   "metadata": {},
   "outputs": [],
   "source": []
  }
 ],
 "metadata": {
  "kernelspec": {
   "display_name": "Python 3 (ipykernel)",
   "language": "python",
   "name": "python3"
  },
  "language_info": {
   "codemirror_mode": {
    "name": "ipython",
    "version": 3
   },
   "file_extension": ".py",
   "mimetype": "text/x-python",
   "name": "python",
   "nbconvert_exporter": "python",
   "pygments_lexer": "ipython3",
   "version": "3.9.12"
  }
 },
 "nbformat": 4,
 "nbformat_minor": 5
}
